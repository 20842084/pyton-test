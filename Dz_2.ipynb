{
 "cells": [
  {
   "cell_type": "code",
   "execution_count": 5,
   "metadata": {},
   "outputs": [
    {
     "name": "stdout",
     "output_type": "stream",
     "text": [
      "Task 1\n",
      "val_a= 3 id_a= 140715872199120\n",
      "val_b= 5 id=_b 140715872199184\n",
      "val_a= 10 id_a= 140715872199344\n",
      "val_b= 5 id_b= 140715872199184\n",
      "Task 2\n",
      "val_list1= [1, 2] id_list1= 2846858424072\n",
      "val_list1= [1, 2] id_list1= 2846858424072\n",
      "val_list2= [1, 2] id_list2= 2846858424072\n",
      "val_list1= [1, 10] id_list1= 2846858424072\n",
      "val_list2= [1, 10] id_list2= 2846858424072\n",
      "Task 3\n",
      "a= 9\n",
      "b= 7\n",
      "a+b= 16\n",
      "a-b= 2\n",
      "a*b= 63\n",
      "a/b= 1.2857142857142858\n",
      "a//b= 1\n",
      "a%b= 2\n",
      "a**b= 4782969\n",
      "Task 4\n",
      "a= 9\n",
      "b= 7\n",
      "a&b= 1\n",
      "a|b= 15\n"
     ]
    }
   ],
   "source": [
    "# Task 1\n",
    "print(\"Task 1\")\n",
    "a = 3\n",
    "b = 5\n",
    "print(\"val_a=\", a ,  \"id_a=\",id(a))\n",
    "print(\"val_b=\", b ,  \"id=_b\",id(b))\n",
    " \n",
    "a = b\n",
    "a = 10 \n",
    "print(\"val_a=\", a ,  \"id_a=\",id(a))\n",
    "print(\"val_b=\", b ,  \"id_b=\",id(b))\n",
    "#  b  не изменится т.к. а изменило сслыку на занчение, а не само знечние. \n",
    "# Ссылка на значение у b осталась таже\n",
    "\n",
    "# Task 2\n",
    "print(\"Task 2\")\n",
    "list1= [1,2]\n",
    "print(\"val_list1=\", list1 ,  \"id_list1=\",id(list1))\n",
    "list2 = list1\n",
    "print(\"val_list1=\", list1 ,  \"id_list1=\",id(list1))\n",
    "print(\"val_list2=\", list1 ,  \"id_list2=\",id(list1))\n",
    "list2[1] = 10\n",
    "print(\"val_list1=\", list1 ,  \"id_list1=\",id(list1))\n",
    "print(\"val_list2=\", list1 ,  \"id_list2=\",id(list1))\n",
    "# обе переменные ссылаются на один список, изменяя элемент списка мы меняем ссылку элемента списка на значение, а ссылка на список никак не меняется\n",
    "\n",
    "# Task 3\n",
    "print(\"Task 3\")\n",
    "a = 9\n",
    "b = 7\n",
    "print(\"a=\",a)\n",
    "print(\"b=\",b)\n",
    "print(\"a+b=\",a+b)\n",
    "print(\"a-b=\",a-b)\n",
    "print(\"a*b=\",a*b)\n",
    "print(\"a/b=\",a/b)\n",
    "print(\"a//b=\",a//b)\n",
    "print(\"a%b=\",a%b)\n",
    "print(\"a**b=\",a**b)\n",
    " \n",
    "# Task 4\n",
    "print(\"Task 4\")\n",
    "print(\"a=\",a)\n",
    "print(\"b=\",b)\n",
    "print(\"a&b=\",a&b) # a  в двоичном 1001 b - 0111 итогом должен быть 0001 т.к. только первый бит собвадает \n",
    "print(\"a|b=\",a|b) # по итогу должно быть значение 1111 т.к. в первом числе есть единицы на первом и 4 бите, а во втором на первых трех битах следовательно должно быть числа в котором на всех битах единицы \n",
    "\n",
    "\n",
    "\n",
    "\n"
   ]
  }
 ],
 "metadata": {
  "kernelspec": {
   "display_name": "Python 3",
   "language": "python",
   "name": "python3"
  },
  "language_info": {
   "codemirror_mode": {
    "name": "ipython",
    "version": 3
   },
   "file_extension": ".py",
   "mimetype": "text/x-python",
   "name": "python",
   "nbconvert_exporter": "python",
   "pygments_lexer": "ipython3",
   "version": "3.7.4"
  }
 },
 "nbformat": 4,
 "nbformat_minor": 2
}
