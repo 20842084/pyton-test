{
 "cells": [
  {
   "cell_type": "code",
   "execution_count": 52,
   "metadata": {},
   "outputs": [
    {
     "output_type": "stream",
     "name": "stdout",
     "text": "Task 1:  [4, -1, 2, 1]\nМаксимальная сумма: 6\nTask 2: [[1, 6], [8, 10], [15, 18]]\n"
    }
   ],
   "source": [
    "# Task 1\n",
    "nums = [-2,1,-3,4,-1,2,1,-5,4]\n",
    "maxs = nums[0]\n",
    "ind1 = 0\n",
    "ind2 = 0\n",
    "for i  in range(len(nums)):\n",
    "    sum = 0\n",
    "    j=i\n",
    "    while j < len(nums):\n",
    "        sum += nums[j]\n",
    "        if sum >= maxs:\n",
    "            maxs =  sum\n",
    "            ind1 = i\n",
    "            ind2 = j\n",
    "        j+=1\n",
    "\n",
    "print(\"Task 1: \", nums[ind1:ind2+1])\n",
    "print(\"Максимальная сумма:\", maxs)\n",
    "\n",
    "# Task 2\n",
    "lst = [[1,3],[8,10],[2,6],[15,18],[2,5]]\n",
    "lst.sort()\n",
    "lst1=list()\n",
    "lst1.append(lst[0])\n",
    "for i in lst:\n",
    "    if (i[0] <= lst1[-1][1]):\n",
    "        if(i[1] > lst1[-1][1]):\n",
    "            lst1[-1][1] = i[1]\n",
    "    else:\n",
    "         lst1.append(i) \n",
    "print(\"Task 2:\", lst1)\n",
    "\n",
    "\n"
   ]
  }
 ],
 "metadata": {
  "language_info": {
   "codemirror_mode": {
    "name": "ipython",
    "version": 3
   },
   "file_extension": ".py",
   "mimetype": "text/x-python",
   "name": "python",
   "nbconvert_exporter": "python",
   "pygments_lexer": "ipython3",
   "version": "3.7.4-final"
  },
  "orig_nbformat": 2,
  "kernelspec": {
   "name": "python3",
   "display_name": "Python 3"
  }
 },
 "nbformat": 4,
 "nbformat_minor": 2
}